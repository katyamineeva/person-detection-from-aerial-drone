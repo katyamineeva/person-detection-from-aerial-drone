{
  "nbformat": 4,
  "nbformat_minor": 0,
  "metadata": {
    "colab": {
      "name": "models_testing.ipynb",
      "version": "0.3.2",
      "provenance": [],
      "include_colab_link": true
    },
    "kernelspec": {
      "name": "python3",
      "display_name": "Python 3"
    },
    "accelerator": "GPU"
  },
  "cells": [
    {
      "cell_type": "markdown",
      "metadata": {
        "id": "view-in-github",
        "colab_type": "text"
      },
      "source": [
        "<a href=\"https://colab.research.google.com/github/katyamineeva/person-detection-from-aerial-drone/blob/master/models_testing.ipynb\" target=\"_parent\"><img src=\"https://colab.research.google.com/assets/colab-badge.svg\" alt=\"Open In Colab\"/></a>"
      ]
    },
    {
      "cell_type": "markdown",
      "metadata": {
        "id": "9D92gdP8zihs",
        "colab_type": "text"
      },
      "source": [
        "# Testing models on synthetic datasets\n",
        "\n",
        "Note that this notebook is adapted to Google.Colab usege."
      ]
    },
    {
      "cell_type": "markdown",
      "metadata": {
        "id": "CPm3Y951z1HI",
        "colab_type": "text"
      },
      "source": [
        "## Loading required libs, modules, models and datasets\n"
      ]
    },
    {
      "cell_type": "code",
      "metadata": {
        "id": "dlr_jRd-els0",
        "colab_type": "code",
        "colab": {}
      },
      "source": [
        "import os\n",
        "import sys\n",
        "import random\n",
        "import math\n",
        "import numpy as np\n",
        "from numpy.random import randint\n",
        "import skimage.io\n",
        "from skimage import img_as_float, img_as_uint, img_as_int\n",
        "import matplotlib\n",
        "import matplotlib.pyplot as plt\n",
        "from keras.utils import plot_model\n",
        "import itertools\n",
        "import math\n",
        "import logging\n",
        "import json\n",
        "import re\n",
        "import random\n",
        "from collections import OrderedDict\n",
        "import numpy as np\n",
        "import matplotlib\n",
        "import matplotlib.pyplot as plt\n",
        "import matplotlib.patches as patches\n",
        "import matplotlib.lines as lines\n",
        "import matplotlib.image as mpimg\n",
        "from matplotlib.patches import Polygon\n",
        "import pickle\n",
        "import shutil\n",
        "from IPython.display import clear_output\n",
        "import csv\n",
        "import cv2\n",
        "import keras\n",
        "import tensorflow as tf\n",
        "%load_ext autoreload\n",
        "%autoreload 2\n",
        "\n",
        "%matplotlib inline\n",
        "\n",
        "from google.colab import drive\n",
        "drive.mount('/content/drive')\n",
        "!pip install keras-resnet"
      ],
      "execution_count": 0,
      "outputs": []
    },
    {
      "cell_type": "markdown",
      "metadata": {
        "id": "v5UN5xHszbXx",
        "colab_type": "text"
      },
      "source": [
        "###Local modules loading"
      ]
    },
    {
      "cell_type": "code",
      "metadata": {
        "id": "4HrqFXEAd2wY",
        "colab_type": "code",
        "colab": {}
      },
      "source": [
        "sys.path.append('/content/drive/My Drive/project/')\n",
        "\n",
        "from metrics import _init_paths\n",
        "from metrics.lib.utils import *\n",
        "from metrics.lib.BoundingBox import *\n",
        "from metrics.lib.BoundingBoxes import *\n",
        "from metrics.lib.Evaluator import *\n",
        "\n",
        "from utils_main_project.local_paths import *\n",
        "from utils_main_project.saving_loading import *\n",
        "from utils_main_project.visualization import *\n",
        "from utils_main_project.global_constants import *\n",
        "\n",
        "sys.path.append(paths['mask-rcnn-tf'])\n",
        "from mrcnn import utils\n",
        "import mrcnn.model as modellib\n",
        "from mrcnn import visualize\n",
        "from mrcnn.model import log\n",
        "from mrcnn.utils import extract_bboxes\n",
        "from samples.coco import coco\n",
        "\n",
        "sys.path.append(paths['retinanet-tf'])\n",
        "from keras_retinanet import models\n",
        "from keras_retinanet.utils.image import read_image_bgr, preprocess_image, resize_image\n",
        "from keras_retinanet.utils.visualization import draw_box, draw_caption\n",
        "from keras_retinanet.utils.colors import label_color"
      ],
      "execution_count": 0,
      "outputs": []
    },
    {
      "cell_type": "markdown",
      "metadata": {
        "id": "DHhcrphP0T8j",
        "colab_type": "text"
      },
      "source": [
        "### Functions for trained Mask R-CNN  and trained RetinaNet loading"
      ]
    },
    {
      "cell_type": "code",
      "metadata": {
        "id": "ZP4zA5xqdK11",
        "colab_type": "code",
        "colab": {}
      },
      "source": [
        "def load_trained_mrcnn():        \n",
        "    class InferenceConfig(coco.CocoConfig):\n",
        "        GPU_COUNT = 1\n",
        "        IMAGES_PER_GPU = 1\n",
        "        \n",
        "    logs_dir = os.path.join(paths['mask-rcnn-tf'], 'logs')\n",
        "    model = modellib.MaskRCNN(mode=\"inference\", model_dir=logs_dir, config=InferenceConfig())\n",
        "    \n",
        "    weights_path = os.path.join(paths['mask-rcnn-tf'], 'mask_rcnn_coco.h5')\n",
        "    model.load_weights(weights_path, by_name=True)\n",
        "    return model\n",
        "\n",
        "# Retinаnet\n",
        "def get_session():\n",
        "    config = tf.ConfigProto()\n",
        "    config.gpu_options.allow_growth = True\n",
        "    return tf.Session(config=config)\n",
        "\n",
        "def load_trained_retinanet():\n",
        "    keras.backend.tensorflow_backend.set_session(get_session())\n",
        "    model_path = os.path.join(paths['retinanet-tf'], 'resnet50_coco_best_v2.1.0.h5')\n",
        "    model = models.load_model(model_path, backbone_name='resnet50')\n",
        "    # converting to inference mode\n",
        "    # model = models.convert_model(model)\n",
        "    return model"
      ],
      "execution_count": 0,
      "outputs": []
    },
    {
      "cell_type": "markdown",
      "metadata": {
        "id": "cLGAQsFQ1aIQ",
        "colab_type": "text"
      },
      "source": [
        "## Functions for model testing"
      ]
    },
    {
      "cell_type": "code",
      "metadata": {
        "id": "Fn1JwECQP_fO",
        "colab_type": "code",
        "colab": {}
      },
      "source": [
        "def init_gt_bbox(id, bbox):\n",
        "    [y, x, y2, x2] = bbox\n",
        "    gt_bb = BoundingBox(imageName=str(id),\n",
        "                        classId='person',\n",
        "                        x=x, y=y, w=x2, h=y2,\n",
        "                        typeCoordinates=CoordinatesType.Absolute,\n",
        "                        bbType=BBType.GroundTruth,\n",
        "                        format=BBFormat.XYX2Y2)\n",
        "    return gt_bb\n",
        "\n",
        "def init_dt_bbox(id, bbox, score):\n",
        "    [y, x, y2, x2] = bbox\n",
        "    dt_bb = BoundingBox(imageName=str(id),\n",
        "                        classId='person',\n",
        "                        x=x, y=y, w=x2, h=y2,\n",
        "                        typeCoordinates=CoordinatesType.Absolute,\n",
        "                        bbType=BBType.Detected,\n",
        "                        classConfidence=score,\n",
        "                        format=BBFormat.XYX2Y2)\n",
        "    return dt_bb"
      ],
      "execution_count": 0,
      "outputs": []
    },
    {
      "cell_type": "code",
      "metadata": {
        "id": "bVeAtPyny38Z",
        "colab_type": "code",
        "colab": {}
      },
      "source": [
        "def get_bboxes_mrcnn(dataset_path, display_progress=False, ids=None):\n",
        "    model = load_trained_mrcnn()\n",
        "    bb = BoundingBoxes()\n",
        "    gt_bboxes = load_bboxes(dataset_path)\n",
        "    \n",
        "    if ids == None:\n",
        "        ids = image_ids_list(dataset_path)\n",
        "    \n",
        "    \n",
        "    for id, image_path in get_ids_n_images(dataset_path, return_val='paths', ids=ids):\n",
        "        image = skimage.io.imread(image_path)\n",
        "\n",
        "        # ground truth\n",
        "        for bbox in gt_bboxes[id]:\n",
        "            bb.addBoundingBox(init_gt_bbox(id, bbox))\n",
        "            \n",
        "        # detections\n",
        "        r = model.detect([image])[0]\n",
        "        \n",
        "        dt_bboxes = extract_bboxes(r['masks'])\n",
        "        for class_id, bbox, score in zip(r['class_ids'], dt_bboxes, r['scores']):\n",
        "            if class_id == PERSON_CLASS_ID_COCO:\n",
        "                bb.addBoundingBox(init_dt_bbox(id, bbox, score))\n",
        "                \n",
        "        if display_progress and id % 50 == 0:\n",
        "            clear_output()\n",
        "            print(id, \"images processed\")\n",
        "    return bb\n",
        "\n",
        "\n",
        "def get_bboxes_retinanet(dataset_path, display_progress=False, ids=None):\n",
        "    model = load_trained_retinanet()\n",
        "    bb = BoundingBoxes()\n",
        "    gt_bboxes = load_bboxes(dataset_path)\n",
        "    \n",
        "    if ids == None:\n",
        "        ids = image_ids_list(dataset_path)\n",
        "    \n",
        "    \n",
        "    for id, image_path in get_ids_n_images(dataset_path, return_val='paths', ids=ids):        \n",
        "        # ground truth\n",
        "        for bbox in gt_bboxes[id]:\n",
        "            bb.addBoundingBox(init_gt_bbox(id, bbox))\n",
        "\n",
        "        #detected\n",
        "        image = read_image_bgr(image_path)\n",
        "        \n",
        "        image = preprocess_image(image)\n",
        "        image, scale = resize_image(image)\n",
        "        bboxes, scores, labels = model.predict_on_batch(np.expand_dims(image, axis=0))\n",
        "        bboxes /= scale\n",
        "\n",
        "        for bbox, score, label in zip(bboxes[0], scores[0], labels[0]):\n",
        "            if score < 0.5:\n",
        "                break\n",
        "\n",
        "            if label == PERSON_CLASS_ID_RETINANET:\n",
        "                bbox = bbox.astype(int)\n",
        "                bbox[0], bbox[1] = bbox[1], bbox[0]\n",
        "                bbox[2], bbox[3] = bbox[3], bbox[2]\n",
        "                bb.addBoundingBox(init_dt_bbox(id, bbox, score))\n",
        "                \n",
        "        if display_progress and id % 50 == 0:\n",
        "            clear_output()\n",
        "            print(id, \"images processed\")\n",
        "    return bb                \n",
        "\n",
        "\n",
        "def evaluate_model(bb, iou_tr=0.3, plot_pr_curve=False):\n",
        "    eval = Evaluator()\n",
        "    metrics = eval.GetPascalVOCMetrics(bb, IOUThreshold=iou_tr)[0]\n",
        "    \n",
        "    print(\"AP: \", metrics['AP'])\n",
        "    print('total positives:', metrics['total positives'])\n",
        "    print('total TP:', metrics['total TP'])\n",
        "    print('total FP:', metrics['total FP'])\n",
        "    \n",
        "    if plot_pr_curve:\n",
        "        eval.PlotPrecisionRecallCurve(bb, IOUThreshold=iou_tr,\n",
        "                                      method=MethodAveragePrecision.EveryPointInterpolation, \n",
        "                                      showAP=True, showInterpolatedPrecision=True) \n",
        "    return metrics"
      ],
      "execution_count": 0,
      "outputs": []
    },
    {
      "cell_type": "markdown",
      "metadata": {
        "id": "H9Xjna0E08Tx",
        "colab_type": "text"
      },
      "source": [
        "## Mask R-CNN testing"
      ]
    },
    {
      "cell_type": "markdown",
      "metadata": {
        "id": "RI_YoPKl272t",
        "colab_type": "text"
      },
      "source": [
        "### Testing Mask R-CNN on VisDrone synthetic data"
      ]
    },
    {
      "cell_type": "code",
      "metadata": {
        "id": "8E7UpGxq1omE",
        "colab_type": "code",
        "outputId": "bbd79ea5-6ca3-4274-8766-d9ed8051dccb",
        "colab": {
          "base_uri": "https://localhost:8080/",
          "height": 397
        }
      },
      "source": [
        "bb1 = get_bboxes_mrcnn(paths['visdrone_synthetic_images'], display_progress=True)\n",
        "mc1 = evaluate_model(bb1, plot_pr_curve=True)\n",
        "sAP1 = mc1['AP']"
      ],
      "execution_count": 0,
      "outputs": [
        {
          "output_type": "stream",
          "text": [
            "800 images processed\n",
            "AP:  0.5723131555459664\n",
            "total positives: 1999\n",
            "total TP: 1165.0\n",
            "total FP: 92.0\n"
          ],
          "name": "stdout"
        },
        {
          "output_type": "display_data",
          "data": {
            "image/png": "[encoded data removed]",
            "text/plain": [
              "<Figure size 432x288 with 1 Axes>"
            ]
          },
          "metadata": {
            "tags": []
          }
        }
      ]
    },
    {
      "cell_type": "code",
      "metadata": {
        "id": "dMKBQ0C74EHd",
        "colab_type": "code",
        "outputId": "34a5aad1-40a7-42f3-922b-82e5b09cfb08",
        "colab": {
          "base_uri": "https://localhost:8080/",
          "height": 86
        }
      },
      "source": [
        "mc1 = evaluate_model(bb1, iou_tr=0.5)\n",
        "sAP1 += mc1['AP']"
      ],
      "execution_count": 0,
      "outputs": [
        {
          "output_type": "stream",
          "text": [
            "AP:  0.5653206612094477\n",
            "total positives: 1999\n",
            "total TP: 1154.0\n",
            "total FP: 103.0\n"
          ],
          "name": "stdout"
        }
      ]
    },
    {
      "cell_type": "code",
      "metadata": {
        "id": "nTqaDSUn4EP6",
        "colab_type": "code",
        "outputId": "bef0f8fa-3fc9-49cf-9a49-6104e730fabf",
        "colab": {
          "base_uri": "https://localhost:8080/",
          "height": 104
        }
      },
      "source": [
        "mc1 = evaluate_model(bb1, iou_tr=0.75)\n",
        "sAP1 += mc1['AP']\n",
        "print('mAP:', sAP1 / 3)"
      ],
      "execution_count": 0,
      "outputs": [
        {
          "output_type": "stream",
          "text": [
            "AP:  0.43685759537329216\n",
            "total positives: 1999\n",
            "total TP: 981.0\n",
            "total FP: 276.0\n",
            "mAP: 0.5248304707095688\n"
          ],
          "name": "stdout"
        }
      ]
    },
    {
      "cell_type": "markdown",
      "metadata": {
        "id": "RpzKqw-y4S6P",
        "colab_type": "text"
      },
      "source": [
        "### Testing Mask R-CNN on MS COCO synthetic data"
      ]
    },
    {
      "cell_type": "code",
      "metadata": {
        "id": "m-ujoPAl4msS",
        "colab_type": "code",
        "outputId": "3fb31928-386a-4f61-a719-fb3e576c62f2",
        "colab": {
          "base_uri": "https://localhost:8080/",
          "height": 397
        }
      },
      "source": [
        "bb2 = get_bboxes_mrcnn(paths['coco_synthetic_images'], display_progress=True)\n",
        "mc2 = evaluate_model(bb2, plot_pr_curve=True)\n",
        "sAP2 = mc2['AP']"
      ],
      "execution_count": 0,
      "outputs": [
        {
          "output_type": "stream",
          "text": [
            "800 images processed\n",
            "AP:  0.45474319927943857\n",
            "total positives: 2013\n",
            "total TP: 943.0\n",
            "total FP: 91.0\n"
          ],
          "name": "stdout"
        },
        {
          "output_type": "display_data",
          "data": {
            "image/png": "[encoded data removed]",
            "text/plain": [
              "<Figure size 432x288 with 1 Axes>"
            ]
          },
          "metadata": {
            "tags": []
          }
        }
      ]
    },
    {
      "cell_type": "code",
      "metadata": {
        "id": "mZGwqNV058C5",
        "colab_type": "code",
        "outputId": "1771323a-f04a-42ec-d2e4-7313df9f92a8",
        "colab": {
          "base_uri": "https://localhost:8080/",
          "height": 86
        }
      },
      "source": [
        "mc2 = evaluate_model(bb2, iou_tr=0.5)\n",
        "sAP2 += mc2['AP']"
      ],
      "execution_count": 0,
      "outputs": [
        {
          "output_type": "stream",
          "text": [
            "AP:  0.4415293644765357\n",
            "total positives: 2013\n",
            "total TP: 923.0\n",
            "total FP: 111.0\n"
          ],
          "name": "stdout"
        }
      ]
    },
    {
      "cell_type": "code",
      "metadata": {
        "id": "jjbxTLX-6v8L",
        "colab_type": "code",
        "outputId": "20f740bf-59ed-43ff-fa4a-52069625a9b7",
        "colab": {
          "base_uri": "https://localhost:8080/",
          "height": 104
        }
      },
      "source": [
        "mc2 = evaluate_model(bb2, iou_tr=0.75)\n",
        "sAP2 += mc2['AP']\n",
        "print('mAP:', sAP2 / 3)"
      ],
      "execution_count": 0,
      "outputs": [
        {
          "output_type": "stream",
          "text": [
            "AP:  0.23321477325417903\n",
            "total positives: 2013\n",
            "total TP: 626.0\n",
            "total FP: 408.0\n",
            "mAP: 0.37649577900338443\n"
          ],
          "name": "stdout"
        }
      ]
    },
    {
      "cell_type": "markdown",
      "metadata": {
        "id": "5BiXki4tRCkY",
        "colab_type": "text"
      },
      "source": [
        "## RetinaNet testing"
      ]
    },
    {
      "cell_type": "markdown",
      "metadata": {
        "id": "HODJBRGPfDrC",
        "colab_type": "text"
      },
      "source": [
        "### Testing RetinaNet on VisDrone synthetic data"
      ]
    },
    {
      "cell_type": "code",
      "metadata": {
        "id": "Mo731mgWeB0r",
        "colab_type": "code",
        "outputId": "02c56492-6fa1-4bca-9a7a-f34221f5a31b",
        "colab": {
          "base_uri": "https://localhost:8080/",
          "height": 397
        }
      },
      "source": [
        "bb3 = get_bboxes_retinanet(paths['visdrone_synthetic_images'], display_progress=True)\n",
        "mc3 = evaluate_model(bb3, plot_pr_curve=True)\n",
        "sAP3 = mc3['AP']"
      ],
      "execution_count": 0,
      "outputs": [
        {
          "output_type": "stream",
          "text": [
            "800 images processed\n",
            "AP:  0.387931039269159\n",
            "total positives: 1999\n",
            "total TP: 778.0\n",
            "total FP: 4.0\n"
          ],
          "name": "stdout"
        },
        {
          "output_type": "display_data",
          "data": {
            "image/png": "[encoded data removed]",
            "text/plain": [
              "<Figure size 432x288 with 1 Axes>"
            ]
          },
          "metadata": {
            "tags": []
          }
        }
      ]
    },
    {
      "cell_type": "code",
      "metadata": {
        "id": "HbbP0TUmeg5S",
        "colab_type": "code",
        "outputId": "af6d0269-2856-4ba9-f0f4-5bf962b431b5",
        "colab": {
          "base_uri": "https://localhost:8080/",
          "height": 86
        }
      },
      "source": [
        "mc3 = evaluate_model(bb3, iou_tr=0.5)\n",
        "sAP3 += mc3['AP']"
      ],
      "execution_count": 0,
      "outputs": [
        {
          "output_type": "stream",
          "text": [
            "AP:  0.387931039269159\n",
            "total positives: 1999\n",
            "total TP: 778.0\n",
            "total FP: 4.0\n"
          ],
          "name": "stdout"
        }
      ]
    },
    {
      "cell_type": "code",
      "metadata": {
        "id": "pqLSV7OFeuSM",
        "colab_type": "code",
        "outputId": "3274a6f0-3027-4d83-c9f7-9052161ffaa3",
        "colab": {
          "base_uri": "https://localhost:8080/",
          "height": 104
        }
      },
      "source": [
        "mc3 = evaluate_model(bb3, iou_tr=0.75)\n",
        "sAP3 += mc3['AP']\n",
        "print('mAP:', sAP3 / 3)"
      ],
      "execution_count": 0,
      "outputs": [
        {
          "output_type": "stream",
          "text": [
            "AP:  0.3472347926578187\n",
            "total positives: 1999\n",
            "total TP: 729.0\n",
            "total FP: 53.0\n",
            "mAP: 0.37436562373204557\n"
          ],
          "name": "stdout"
        }
      ]
    },
    {
      "cell_type": "markdown",
      "metadata": {
        "id": "4roXzza3mjd9",
        "colab_type": "text"
      },
      "source": [
        "### Testing RetinaNet on MS COCO synthetic data"
      ]
    },
    {
      "cell_type": "code",
      "metadata": {
        "id": "61PFqpW-mwjP",
        "colab_type": "code",
        "outputId": "12cfac4a-f610-461f-f273-7dbcb7b11fea",
        "colab": {
          "base_uri": "https://localhost:8080/",
          "height": 397
        }
      },
      "source": [
        "bb4 = get_bboxes_retinanet(paths['coco_synthetic_images'], display_progress=True)\n",
        "mc4 = evaluate_model(bb4, plot_pr_curve=True)\n",
        "sAP4 = mc4['AP']"
      ],
      "execution_count": 10,
      "outputs": [
        {
          "output_type": "stream",
          "text": [
            "800 images processed\n",
            "AP:  0.27932247462299314\n",
            "total positives: 2013\n",
            "total TP: 566.0\n",
            "total FP: 5.0\n"
          ],
          "name": "stdout"
        },
        {
          "output_type": "display_data",
          "data": {
            "image/png": "[encoded data removed]",
            "text/plain": [
              "<Figure size 432x288 with 1 Axes>"
            ]
          },
          "metadata": {
            "tags": []
          }
        }
      ]
    },
    {
      "cell_type": "code",
      "metadata": {
        "id": "fI7Uch8Om8Ox",
        "colab_type": "code",
        "outputId": "c283c5e1-7125-47a8-ffc5-1a9f6fbfa0bb",
        "colab": {
          "base_uri": "https://localhost:8080/",
          "height": 86
        }
      },
      "source": [
        "mc4 = evaluate_model(bb4, iou_tr=0.5)\n",
        "sAP4 += mc4['AP']"
      ],
      "execution_count": 8,
      "outputs": [
        {
          "output_type": "stream",
          "text": [
            "AP:  0.2774450667751727\n",
            "total positives: 2013\n",
            "total TP: 564.0\n",
            "total FP: 7.0\n"
          ],
          "name": "stdout"
        }
      ]
    },
    {
      "cell_type": "code",
      "metadata": {
        "id": "dsjo3zfGnFjJ",
        "colab_type": "code",
        "outputId": "8d8b4cf0-6c41-44c8-cb2a-2f4d001d4359",
        "colab": {
          "base_uri": "https://localhost:8080/",
          "height": 104
        }
      },
      "source": [
        "mc4 = evaluate_model(bb4, iou_tr=0.75)\n",
        "sAP4 += mc4['AP']\n",
        "print('mAP:', sAP4 / 3)"
      ],
      "execution_count": 9,
      "outputs": [
        {
          "output_type": "stream",
          "text": [
            "AP:  0.21920815161469642\n",
            "total positives: 2013\n",
            "total TP: 492.0\n",
            "total FP: 79.0\n",
            "mAP: 0.25865856433762074\n"
          ],
          "name": "stdout"
        }
      ]
    }
  ]
}